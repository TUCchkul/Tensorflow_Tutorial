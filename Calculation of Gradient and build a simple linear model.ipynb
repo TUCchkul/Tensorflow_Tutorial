{
 "cells": [
  {
   "cell_type": "code",
   "execution_count": 1,
   "id": "4d1dbf86",
   "metadata": {},
   "outputs": [],
   "source": [
    "import tensorflow as tf"
   ]
  },
  {
   "cell_type": "code",
   "execution_count": 2,
   "id": "04dffc1d",
   "metadata": {},
   "outputs": [],
   "source": [
    "x=tf.random.normal(shape=(2,2))\n",
    "y=tf.random.normal(shape=(2,2))"
   ]
  },
  {
   "cell_type": "markdown",
   "id": "da78d7c6",
   "metadata": {},
   "source": [
    "$ f(x,y) = \\sqrt{(x^2 +y^2)}$\n",
    "\n",
    "$ \\nabla f(x,y) = \\frac{\\partial f}{\\partial x} \\hat{\\imath} + \\frac{\\partial f}{\\partial y} \\hat{\\imath}$"
   ]
  },
  {
   "cell_type": "code",
   "execution_count": 5,
   "id": "5e4920a2",
   "metadata": {},
   "outputs": [
    {
     "name": "stdout",
     "output_type": "stream",
     "text": [
      "tf.Tensor(\n",
      "[[ 0.9717826   0.50861585]\n",
      " [-0.09010362 -0.2214592 ]], shape=(2, 2), dtype=float32)\n"
     ]
    }
   ],
   "source": [
    "with tf.GradientTape() as tape:\n",
    "    tape.watch(x)##I want to calcuate gradient wrt x\n",
    "    f=tf.sqrt(tf.square(x) + tf.square(y))\n",
    "    df_dx=tape.gradient(f,x)\n",
    "    print(df_dx)"
   ]
  },
  {
   "cell_type": "code",
   "execution_count": 7,
   "id": "a4f736aa",
   "metadata": {},
   "outputs": [
    {
     "name": "stdout",
     "output_type": "stream",
     "text": [
      "tf.Tensor(\n",
      "[[ 0.2358785  -0.8609936 ]\n",
      " [-0.9959324  -0.97516966]], shape=(2, 2), dtype=float32)\n"
     ]
    }
   ],
   "source": [
    "with tf.GradientTape() as tape:\n",
    "    tape.watch(y)### I want to calculate gradient of y wrt y\n",
    "    f=tf.sqrt(tf.square(x)+tf.square(y))\n",
    "    df_dy=tape.gradient(f,y)\n",
    "    print(df_dy)"
   ]
  },
  {
   "cell_type": "code",
   "execution_count": 9,
   "id": "8b2ccdb5",
   "metadata": {},
   "outputs": [
    {
     "name": "stdout",
     "output_type": "stream",
     "text": [
      "None\n",
      "None\n"
     ]
    }
   ],
   "source": [
    "with tf.GradientTape() as tape:\n",
    "    #tape.watch(x)\n",
    "    #tape.watch(y)\n",
    "    f=tf.sqrt(tf.square(x)+tf.square(y))\n",
    "    df_dx,df_dy=tape.gradient(f,[x,y])\n",
    "    print(df_dx)\n",
    "    print(df_dy)"
   ]
  },
  {
   "cell_type": "code",
   "execution_count": 10,
   "id": "30f6fc87",
   "metadata": {},
   "outputs": [
    {
     "name": "stdout",
     "output_type": "stream",
     "text": [
      "tf.Tensor(\n",
      "[[ 0.9717826   0.50861585]\n",
      " [-0.09010362 -0.2214592 ]], shape=(2, 2), dtype=float32)\n",
      "tf.Tensor(\n",
      "[[ 0.2358785  -0.8609936 ]\n",
      " [-0.9959324  -0.97516966]], shape=(2, 2), dtype=float32)\n"
     ]
    }
   ],
   "source": [
    "with tf.GradientTape() as tape:\n",
    "    tape.watch(x)\n",
    "    tape.watch(y)\n",
    "    f=tf.sqrt(tf.square(x)+tf.square(y))\n",
    "    df_dx,df_dy=tape.gradient(f,[x,y])\n",
    "    print(df_dx)\n",
    "    print(df_dy)"
   ]
  },
  {
   "cell_type": "markdown",
   "id": "12427310",
   "metadata": {},
   "source": [
    "# Without using tape we can calculate gradient by using tf.Variable"
   ]
  },
  {
   "cell_type": "code",
   "execution_count": 11,
   "id": "7fd9a77b",
   "metadata": {},
   "outputs": [],
   "source": [
    "x1=tf.Variable(tf.random.normal(shape=(2,2)))\n",
    "y1=tf.Variable(tf.random.normal(shape=(2,2)))"
   ]
  },
  {
   "cell_type": "code",
   "execution_count": 13,
   "id": "4c77a55b",
   "metadata": {},
   "outputs": [
    {
     "name": "stdout",
     "output_type": "stream",
     "text": [
      "tf.Tensor(\n",
      "[[0.91369456 0.9852344 ]\n",
      " [0.22150484 0.20765918]], shape=(2, 2), dtype=float32)\n",
      "tf.Tensor(\n",
      "[[-0.40640152  0.17121102]\n",
      " [-0.9751592  -0.97820115]], shape=(2, 2), dtype=float32)\n"
     ]
    }
   ],
   "source": [
    "with tf.GradientTape() as tape:\n",
    "    f=tf.sqrt(tf.square(x1)+tf.square(y1))\n",
    "    df_dx,df_dy=tape.gradient(f,[x1,y1])\n",
    "    print(df_dx)\n",
    "    print(df_dy)"
   ]
  },
  {
   "cell_type": "code",
   "execution_count": 14,
   "id": "e29a9a1a",
   "metadata": {},
   "outputs": [],
   "source": [
    "x=tf.Variable(3.)\n",
    "y=tf.Variable(2.)\n"
   ]
  },
  {
   "cell_type": "code",
   "execution_count": 15,
   "id": "92fe54ea",
   "metadata": {},
   "outputs": [
    {
     "name": "stdout",
     "output_type": "stream",
     "text": [
      "tf.Tensor(0.8320503, shape=(), dtype=float32)\n",
      "tf.Tensor(0.5547002, shape=(), dtype=float32)\n"
     ]
    }
   ],
   "source": [
    "with tf.GradientTape() as tape:\n",
    "    f=tf.sqrt(tf.square(x)+tf.square(y))\n",
    "    df_dx,df_dy=tape.gradient(f,[x,y])\n",
    "    print(df_dx)\n",
    "    print(df_dy)"
   ]
  },
  {
   "cell_type": "markdown",
   "id": "7559b196",
   "metadata": {},
   "source": [
    "## Simple Linear Regreassion Example"
   ]
  },
  {
   "cell_type": "markdown",
   "id": "2e16a124",
   "metadata": {},
   "source": [
    "$ f(x) =W.x +b $"
   ]
  },
  {
   "cell_type": "code",
   "execution_count": 21,
   "id": "b8cf51d8",
   "metadata": {},
   "outputs": [],
   "source": [
    "TRUE_W=3.0\n",
    "TRUE_B=2.0\n",
    "NUM_EXAMPLES=1000\n",
    "x=tf.random.normal(shape=[NUM_EXAMPLES])"
   ]
  },
  {
   "cell_type": "code",
   "execution_count": 43,
   "id": "affe56df",
   "metadata": {},
   "outputs": [],
   "source": [
    "noise=tf.random.normal(shape=[NUM_EXAMPLES])"
   ]
  },
  {
   "cell_type": "code",
   "execution_count": 44,
   "id": "01c5c112",
   "metadata": {},
   "outputs": [],
   "source": [
    "y=x*TRUE_W + TRUE_B + noise"
   ]
  },
  {
   "cell_type": "code",
   "execution_count": 45,
   "id": "df367a54",
   "metadata": {},
   "outputs": [
    {
     "data": {
      "image/png": "[encoded data removed]",
      "text/plain": [
       "<Figure size 432x288 with 1 Axes>"
      ]
     },
     "metadata": {
      "needs_background": "light"
     },
     "output_type": "display_data"
    }
   ],
   "source": [
    "import matplotlib.pyplot as plt\n",
    "plt.scatter(x,y, c=\"b\")\n",
    "plt.show()"
   ]
  },
  {
   "cell_type": "code",
   "execution_count": 28,
   "id": "d3d30e09",
   "metadata": {},
   "outputs": [],
   "source": [
    "y=x*TRUE_W + TRUE_B "
   ]
  },
  {
   "cell_type": "code",
   "execution_count": 30,
   "id": "a8b6d711",
   "metadata": {},
   "outputs": [
    {
     "data": {
      "image/png": "[encoded data removed]",
      "text/plain": [
       "<Figure size 432x288 with 1 Axes>"
      ]
     },
     "metadata": {
      "needs_background": "light"
     },
     "output_type": "display_data"
    }
   ],
   "source": [
    "import matplotlib.pyplot as plt\n",
    "plt.scatter(x,y, c=\"b\")\n",
    "plt.show()"
   ]
  },
  {
   "cell_type": "markdown",
   "id": "ff9d4e40",
   "metadata": {},
   "source": [
    "# Lest define a model"
   ]
  },
  {
   "cell_type": "code",
   "execution_count": 46,
   "id": "bd27da3c",
   "metadata": {},
   "outputs": [],
   "source": [
    "class MyModel(tf.Module):\n",
    "    def __init__(self, **kwargs):\n",
    "        super().__init__(**kwargs)\n",
    "        #initialize weights\n",
    "        self.w=tf.Variable(5.0)\n",
    "        self.b=tf.Variable(0.0)\n",
    "    def __call__(self,x):\n",
    "        \n",
    "        return self.w*x+self.b"
   ]
  },
  {
   "cell_type": "code",
   "execution_count": 47,
   "id": "0f59bada",
   "metadata": {},
   "outputs": [],
   "source": [
    "model=MyModel()"
   ]
  },
  {
   "cell_type": "code",
   "execution_count": 48,
   "id": "2479dc0e",
   "metadata": {},
   "outputs": [
    {
     "data": {
      "text/plain": [
       "<tf.Tensor: shape=(), dtype=float32, numpy=15.0>"
      ]
     },
     "execution_count": 48,
     "metadata": {},
     "output_type": "execute_result"
    }
   ],
   "source": [
    "model(3)"
   ]
  },
  {
   "cell_type": "code",
   "execution_count": null,
   "id": "3716d185",
   "metadata": {},
   "outputs": [],
   "source": []
  },
  {
   "cell_type": "code",
   "execution_count": 49,
   "id": "56657b0f",
   "metadata": {},
   "outputs": [
    {
     "data": {
      "text/plain": [
       "<tf.Variable 'Variable:0' shape=() dtype=float32, numpy=5.0>"
      ]
     },
     "execution_count": 49,
     "metadata": {},
     "output_type": "execute_result"
    }
   ],
   "source": [
    "model.w"
   ]
  },
  {
   "cell_type": "code",
   "execution_count": 50,
   "id": "296cd449",
   "metadata": {},
   "outputs": [
    {
     "data": {
      "text/plain": [
       "<tf.Variable 'Variable:0' shape=() dtype=float32, numpy=0.0>"
      ]
     },
     "execution_count": 50,
     "metadata": {},
     "output_type": "execute_result"
    }
   ],
   "source": [
    "model.b"
   ]
  },
  {
   "cell_type": "code",
   "execution_count": 51,
   "id": "fb50d9cf",
   "metadata": {},
   "outputs": [
    {
     "data": {
      "text/plain": [
       "(<tf.Variable 'Variable:0' shape=() dtype=float32, numpy=0.0>,\n",
       " <tf.Variable 'Variable:0' shape=() dtype=float32, numpy=5.0>)"
      ]
     },
     "execution_count": 51,
     "metadata": {},
     "output_type": "execute_result"
    }
   ],
   "source": [
    "model.variables"
   ]
  },
  {
   "cell_type": "markdown",
   "id": "5ad63b03",
   "metadata": {},
   "source": [
    "# Lest define the loss function"
   ]
  },
  {
   "cell_type": "code",
   "execution_count": 52,
   "id": "b0e69b72",
   "metadata": {},
   "outputs": [],
   "source": [
    "def MSE_loss(target_y, predicted_y):\n",
    "    error=target_y-predicted_y\n",
    "    squared_error=tf.square(error)\n",
    "    mse=tf.reduce_mean(squared_error)\n",
    "    return mse"
   ]
  },
  {
   "cell_type": "code",
   "execution_count": 53,
   "id": "b3626f45",
   "metadata": {},
   "outputs": [
    {
     "data": {
      "image/png": "[encoded data removed]",
      "text/plain": [
       "<Figure size 432x288 with 1 Axes>"
      ]
     },
     "metadata": {
      "needs_background": "light"
     },
     "output_type": "display_data"
    }
   ],
   "source": [
    "plt.scatter(x,y, c=\"b\")\n",
    "pred_y=model(x)## without training\n",
    "plt.scatter(x,pred_y, c=\"r\")\n",
    "plt.show()"
   ]
  },
  {
   "cell_type": "code",
   "execution_count": 54,
   "id": "2182fc99",
   "metadata": {},
   "outputs": [
    {
     "data": {
      "text/plain": [
       "8.928176"
      ]
     },
     "execution_count": 54,
     "metadata": {},
     "output_type": "execute_result"
    }
   ],
   "source": [
    "current_loss=MSE_loss(y, model(x))\n",
    "current_loss.numpy()"
   ]
  },
  {
   "cell_type": "markdown",
   "id": "66ae021c",
   "metadata": {},
   "source": [
    "# Lets define the traning"
   ]
  },
  {
   "cell_type": "code",
   "execution_count": 59,
   "id": "a015faf4",
   "metadata": {},
   "outputs": [],
   "source": [
    "def train(model,x,y,learning_rate):\n",
    "    with tf.GradientTape() as tape:\n",
    "        current_loss=MSE_loss(y, model(x))\n",
    "    dc_dw,dc_db=tape.gradient(current_loss,[model.w,model.b])\n",
    "    model.w.assign_sub(learning_rate * dc_dw)\n",
    "    model.b.assign_sub(learning_rate * dc_db)"
   ]
  },
  {
   "cell_type": "code",
   "execution_count": 60,
   "id": "552706e7",
   "metadata": {},
   "outputs": [
    {
     "name": "stdout",
     "output_type": "stream",
     "text": [
      "Initial W: 5.0, initial bias: 0.0, initial_loss:8.928175926208496\n"
     ]
    }
   ],
   "source": [
    "model=MyModel()\n",
    "ws,bs=[],[]\n",
    "epochs=10\n",
    "learning_rate=0.1\n",
    "w=model.w.numpy()\n",
    "b=model.b.numpy()\n",
    "init_loss=MSE_loss(y, model(x))\n",
    "print(f\"Initial W: {w}, initial bias: {b}, initial_loss:{init_loss}\")"
   ]
  },
  {
   "cell_type": "code",
   "execution_count": 61,
   "id": "e582b2c5",
   "metadata": {},
   "outputs": [
    {
     "name": "stdout",
     "output_type": "stream",
     "text": [
      "For epoch: 0, W: [], b: 0.3861590325832367, Current_loss: 6.143885612487793\n",
      "For epoch: 1, W: [4.600472], b: 0.6974221467971802, Current_loss: 4.345661163330078\n",
      "For epoch: 2, W: [4.600472, 4.280295], b: 0.9483045339584351, Current_loss: 3.1842470169067383\n",
      "For epoch: 3, W: [4.600472, 4.280295, 4.0236983], b: 1.150510549545288, Current_loss: 2.434103012084961\n",
      "For epoch: 4, W: [4.600472, 4.280295, 4.0236983, 3.818048], b: 1.3134777545928955, Current_loss: 1.9495786428451538\n",
      "For epoch: 5, W: [4.600472, 4.280295, 4.0236983, 3.818048, 3.653222], b: 1.4448151588439941, Current_loss: 1.6366108655929565\n",
      "For epoch: 6, W: [4.600472, 4.280295, 4.0236983, 3.818048, 3.653222, 3.5211112], b: 1.5506573915481567, Current_loss: 1.434450626373291\n",
      "For epoch: 7, W: [4.600472, 4.280295, 4.0236983, 3.818048, 3.653222, 3.5211112, 3.4152179], b: 1.6359503269195557, Current_loss: 1.3038619756698608\n",
      "For epoch: 8, W: [4.600472, 4.280295, 4.0236983, 3.818048, 3.653222, 3.5211112, 3.4152179, 3.3303356], b: 1.7046809196472168, Current_loss: 1.2195042371749878\n",
      "For epoch: 9, W: [4.600472, 4.280295, 4.0236983, 3.818048, 3.653222, 3.5211112, 3.4152179, 3.3303356, 3.262293], b: 1.7600631713867188, Current_loss: 1.165008783340454\n"
     ]
    }
   ],
   "source": [
    "for epoch in range(epochs):\n",
    "    train(model,x,y,learning_rate)\n",
    "    ws.append(model.w.numpy())\n",
    "    bs.append(model.b.numpy())\n",
    "    current_loss=MSE_loss(y, model(x))\n",
    "    print(f\"For epoch: {epoch}, W: {ws[:-1]}, b: {bs[-1]}, Current_loss: {current_loss}\")"
   ]
  },
  {
   "cell_type": "code",
   "execution_count": 62,
   "id": "55d9908a",
   "metadata": {},
   "outputs": [
    {
     "data": {
      "image/png": "[encoded data removed]",
      "text/plain": [
       "<Figure size 432x288 with 1 Axes>"
      ]
     },
     "metadata": {
      "needs_background": "light"
     },
     "output_type": "display_data"
    }
   ],
   "source": [
    "plt.plot(range(epochs), ws,'r',range(epochs),bs,'b')\n",
    "plt.plot([TRUE_W] * epochs,\"r--\",[TRUE_B]*epochs,\"b--\")\n",
    "plt.legend([\"w\",\"b\",\"True W\",\"True_B\"])\n",
    "plt.show()"
   ]
  },
  {
   "cell_type": "code",
   "execution_count": 63,
   "id": "9332eece",
   "metadata": {},
   "outputs": [
    {
     "data": {
      "image/png": "[encoded data removed]",
      "text/plain": [
       "<Figure size 432x288 with 1 Axes>"
      ]
     },
     "metadata": {
      "needs_background": "light"
     },
     "output_type": "display_data"
    }
   ],
   "source": [
    "plt.scatter(x,y, c=\"b\")\n",
    "pred_y=model(x)## after training\n",
    "plt.scatter(x,pred_y, c=\"r\")\n",
    "plt.show()"
   ]
  },
  {
   "cell_type": "code",
   "execution_count": null,
   "id": "87a9e97f",
   "metadata": {},
   "outputs": [],
   "source": []
  }
 ],
 "metadata": {
  "kernelspec": {
   "display_name": "Python 3 (ipykernel)",
   "language": "python",
   "name": "python3"
  },
  "language_info": {
   "codemirror_mode": {
    "name": "ipython",
    "version": 3
   },
   "file_extension": ".py",
   "mimetype": "text/x-python",
   "name": "python",
   "nbconvert_exporter": "python",
   "pygments_lexer": "ipython3",
   "version": "3.7.0"
  }
 },
 "nbformat": 4,
 "nbformat_minor": 5
}
