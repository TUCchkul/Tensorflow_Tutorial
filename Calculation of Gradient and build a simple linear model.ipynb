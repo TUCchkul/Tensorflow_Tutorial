{
 "cells": [
  {
   "cell_type": "code",
   "execution_count": 1,
   "id": "43d3840f",
   "metadata": {},
   "outputs": [],
   "source": [
    "import tensorflow as tf"
   ]
  },
  {
   "cell_type": "code",
   "execution_count": 2,
   "id": "4f16d394",
   "metadata": {},
   "outputs": [],
   "source": [
    "x=tf.random.normal(shape=(2,2))\n",
    "y=tf.random.normal(shape=(2,2))"
   ]
  },
  {
   "cell_type": "markdown",
   "id": "8bd74c0c",
   "metadata": {},
   "source": [
    "$ f(x,y) = \\sqrt{(x^2 +y^2)}$\n",
    "\n",
    "$ \\nabla f(x,y) = \\frac{\\partial f}{\\partial x} \\hat{\\imath} + \\frac{\\partial f}{\\partial y} \\hat{\\imath}$"
   ]
  },
  {
   "cell_type": "code",
   "execution_count": 5,
   "id": "6b06c7e3",
   "metadata": {},
   "outputs": [
    {
     "name": "stdout",
     "output_type": "stream",
     "text": [
      "tf.Tensor(\n",
      "[[ 0.9717826   0.50861585]\n",
      " [-0.09010362 -0.2214592 ]], shape=(2, 2), dtype=float32)\n"
     ]
    }
   ],
   "source": [
    "with tf.GradientTape() as tape:\n",
    "    tape.watch(x)##I want to calcuate gradient wrt x\n",
    "    f=tf.sqrt(tf.square(x) + tf.square(y))\n",
    "    df_dx=tape.gradient(f,x)\n",
    "    print(df_dx)"
   ]
  },
  {
   "cell_type": "code",
   "execution_count": 7,
   "id": "96fd7152",
   "metadata": {},
   "outputs": [
    {
     "name": "stdout",
     "output_type": "stream",
     "text": [
      "tf.Tensor(\n",
      "[[ 0.2358785  -0.8609936 ]\n",
      " [-0.9959324  -0.97516966]], shape=(2, 2), dtype=float32)\n"
     ]
    }
   ],
   "source": [
    "with tf.GradientTape() as tape:\n",
    "    tape.watch(y)### I want to calculate gradient of y wrt y\n",
    "    f=tf.sqrt(tf.square(x)+tf.square(y))\n",
    "    df_dy=tape.gradient(f,y)\n",
    "    print(df_dy)"
   ]
  },
  {
   "cell_type": "code",
   "execution_count": 9,
   "id": "54cb0a06",
   "metadata": {},
   "outputs": [
    {
     "name": "stdout",
     "output_type": "stream",
     "text": [
      "None\n",
      "None\n"
     ]
    }
   ],
   "source": [
    "with tf.GradientTape() as tape:\n",
    "    #tape.watch(x)\n",
    "    #tape.watch(y)\n",
    "    f=tf.sqrt(tf.square(x)+tf.square(y))\n",
    "    df_dx,df_dy=tape.gradient(f,[x,y])\n",
    "    print(df_dx)\n",
    "    print(df_dy)"
   ]
  },
  {
   "cell_type": "code",
   "execution_count": 10,
   "id": "dcbae5e8",
   "metadata": {},
   "outputs": [
    {
     "name": "stdout",
     "output_type": "stream",
     "text": [
      "tf.Tensor(\n",
      "[[ 0.9717826   0.50861585]\n",
      " [-0.09010362 -0.2214592 ]], shape=(2, 2), dtype=float32)\n",
      "tf.Tensor(\n",
      "[[ 0.2358785  -0.8609936 ]\n",
      " [-0.9959324  -0.97516966]], shape=(2, 2), dtype=float32)\n"
     ]
    }
   ],
   "source": [
    "with tf.GradientTape() as tape:\n",
    "    tape.watch(x)\n",
    "    tape.watch(y)\n",
    "    f=tf.sqrt(tf.square(x)+tf.square(y))\n",
    "    df_dx,df_dy=tape.gradient(f,[x,y])\n",
    "    print(df_dx)\n",
    "    print(df_dy)"
   ]
  },
  {
   "cell_type": "markdown",
   "id": "590d377a",
   "metadata": {},
   "source": [
    "# Without using tape we can calculate gradient by using tf.Variable"
   ]
  },
  {
   "cell_type": "code",
   "execution_count": 11,
   "id": "ab51fa7a",
   "metadata": {},
   "outputs": [],
   "source": [
    "x1=tf.Variable(tf.random.normal(shape=(2,2)))\n",
    "y1=tf.Variable(tf.random.normal(shape=(2,2)))"
   ]
  },
  {
   "cell_type": "code",
   "execution_count": 13,
   "id": "b7db94d9",
   "metadata": {},
   "outputs": [
    {
     "name": "stdout",
     "output_type": "stream",
     "text": [
      "tf.Tensor(\n",
      "[[0.91369456 0.9852344 ]\n",
      " [0.22150484 0.20765918]], shape=(2, 2), dtype=float32)\n",
      "tf.Tensor(\n",
      "[[-0.40640152  0.17121102]\n",
      " [-0.9751592  -0.97820115]], shape=(2, 2), dtype=float32)\n"
     ]
    }
   ],
   "source": [
    "with tf.GradientTape() as tape:\n",
    "    f=tf.sqrt(tf.square(x1)+tf.square(y1))\n",
    "    df_dx,df_dy=tape.gradient(f,[x1,y1])\n",
    "    print(df_dx)\n",
    "    print(df_dy)"
   ]
  },
  {
   "cell_type": "code",
   "execution_count": 14,
   "id": "59aeef73",
   "metadata": {},
   "outputs": [],
   "source": [
    "x=tf.Variable(3.)\n",
    "y=tf.Variable(2.)\n"
   ]
  },
  {
   "cell_type": "code",
   "execution_count": 15,
   "id": "ba80b15d",
   "metadata": {},
   "outputs": [
    {
     "name": "stdout",
     "output_type": "stream",
     "text": [
      "tf.Tensor(0.8320503, shape=(), dtype=float32)\n",
      "tf.Tensor(0.5547002, shape=(), dtype=float32)\n"
     ]
    }
   ],
   "source": [
    "with tf.GradientTape() as tape:\n",
    "    f=tf.sqrt(tf.square(x)+tf.square(y))\n",
    "    df_dx,df_dy=tape.gradient(f,[x,y])\n",
    "    print(df_dx)\n",
    "    print(df_dy)"
   ]
  },
  {
   "cell_type": "markdown",
   "id": "c57c023d",
   "metadata": {},
   "source": [
    "## Simple Linear Regreassion Example"
   ]
  },
  {
   "cell_type": "markdown",
   "id": "30bca9c6",
   "metadata": {},
   "source": [
    "$ f(x) =W.x +b $"
   ]
  },
  {
   "cell_type": "code",
   "execution_count": 21,
   "id": "8f477ec8",
   "metadata": {},
   "outputs": [],
   "source": [
    "TRUE_W=3.0\n",
    "TRUE_B=2.0\n",
    "NUM_EXAMPLES=1000\n",
    "x=tf.random.normal(shape=[NUM_EXAMPLES])"
   ]
  },
  {
   "cell_type": "code",
   "execution_count": 43,
   "id": "36481924",
   "metadata": {},
   "outputs": [],
   "source": [
    "noise=tf.random.normal(shape=[NUM_EXAMPLES])"
   ]
  },
  {
   "cell_type": "code",
   "execution_count": 44,
   "id": "59c5df8a",
   "metadata": {},
   "outputs": [],
   "source": [
    "y=x*TRUE_W + TRUE_B + noise"
   ]
  },
  {
   "cell_type": "code",
   "execution_count": 45,
   "id": "b8a33c4b",
   "metadata": {},
   "outputs": [
    {
     "data": {
      "image/png": "[encoded data removed]",
      "text/plain": [
       "<Figure size 432x288 with 1 Axes>"
      ]
     },
     "metadata": {
      "needs_background": "light"
     },
     "output_type": "display_data"
    }
   ],
   "source": [
    "import matplotlib.pyplot as plt\n",
    "plt.scatter(x,y, c=\"b\")\n",
    "plt.show()"
   ]
  },
  {
   "cell_type": "code",
   "execution_count": 28,
   "id": "d00e4815",
   "metadata": {},
   "outputs": [],
   "source": [
    "y=x*TRUE_W + TRUE_B "
   ]
  },
  {
   "cell_type": "code",
   "execution_count": 30,
   "id": "0e3a6d99",
   "metadata": {},
   "outputs": [
    {
     "data": {
      "image/png": "[encoded data removed]",
      "text/plain": [
       "<Figure size 432x288 with 1 Axes>"
      ]
     },
     "metadata": {
      "needs_background": "light"
     },
     "output_type": "display_data"
    }
   ],
   "source": [
    "import matplotlib.pyplot as plt\n",
    "plt.scatter(x,y, c=\"b\")\n",
    "plt.show()"
   ]
  },
  {
   "cell_type": "markdown",
   "id": "11bf6dfd",
   "metadata": {},
   "source": [
    "# Lest define a model"
   ]
  },
  {
   "cell_type": "code",
   "execution_count": 46,
   "id": "ebde99a7",
   "metadata": {},
   "outputs": [],
   "source": [
    "class MyModel(tf.Module):\n",
    "    def __init__(self, **kwargs):\n",
    "        super().__init__(**kwargs)\n",
    "        #initialize weights\n",
    "        self.w=tf.Variable(5.0)\n",
    "        self.b=tf.Variable(0.0)\n",
    "    def __call__(self,x):\n",
    "        \n",
    "        return self.w*x+self.b"
   ]
  },
  {
   "cell_type": "code",
   "execution_count": 47,
   "id": "c5d39453",
   "metadata": {},
   "outputs": [],
   "source": [
    "model=MyModel()"
   ]
  },
  {
   "cell_type": "code",
   "execution_count": 48,
   "id": "1af59572",
   "metadata": {},
   "outputs": [
    {
     "data": {
      "text/plain": [
       "<tf.Tensor: shape=(), dtype=float32, numpy=15.0>"
      ]
     },
     "execution_count": 48,
     "metadata": {},
     "output_type": "execute_result"
    }
   ],
   "source": [
    "model(3)"
   ]
  },
  {
   "cell_type": "code",
   "execution_count": null,
   "id": "fe7d521f",
   "metadata": {},
   "outputs": [],
   "source": []
  },
  {
   "cell_type": "code",
   "execution_count": 49,
   "id": "6a28d919",
   "metadata": {},
   "outputs": [
    {
     "data": {
      "text/plain": [
       "<tf.Variable 'Variable:0' shape=() dtype=float32, numpy=5.0>"
      ]
     },
     "execution_count": 49,
     "metadata": {},
     "output_type": "execute_result"
    }
   ],
   "source": [
    "model.w"
   ]
  },
  {
   "cell_type": "code",
   "execution_count": 50,
   "id": "09b6353d",
   "metadata": {},
   "outputs": [
    {
     "data": {
      "text/plain": [
       "<tf.Variable 'Variable:0' shape=() dtype=float32, numpy=0.0>"
      ]
     },
     "execution_count": 50,
     "metadata": {},
     "output_type": "execute_result"
    }
   ],
   "source": [
    "model.b"
   ]
  },
  {
   "cell_type": "code",
   "execution_count": 51,
   "id": "45672326",
   "metadata": {},
   "outputs": [
    {
     "data": {
      "text/plain": [
       "(<tf.Variable 'Variable:0' shape=() dtype=float32, numpy=0.0>,\n",
       " <tf.Variable 'Variable:0' shape=() dtype=float32, numpy=5.0>)"
      ]
     },
     "execution_count": 51,
     "metadata": {},
     "output_type": "execute_result"
    }
   ],
   "source": [
    "model.variables"
   ]
  },
  {
   "cell_type": "markdown",
   "id": "a4977ba7",
   "metadata": {},
   "source": [
    "# Lest define the loss function"
   ]
  },
  {
   "cell_type": "code",
   "execution_count": 52,
   "id": "8153a9c1",
   "metadata": {},
   "outputs": [],
   "source": [
    "def MSE_loss(target_y, predicted_y):\n",
    "    error=target_y-predicted_y\n",
    "    squared_error=tf.square(error)\n",
    "    mse=tf.reduce_mean(squared_error)\n",
    "    return mse"
   ]
  },
  {
   "cell_type": "code",
   "execution_count": 53,
   "id": "7dc214a0",
   "metadata": {},
   "outputs": [
    {
     "data": {
      "image/png": "[encoded data removed]",
      "text/plain": [
       "<Figure size 432x288 with 1 Axes>"
      ]
     },
     "metadata": {
      "needs_background": "light"
     },
     "output_type": "display_data"
    }
   ],
   "source": [
    "plt.scatter(x,y, c=\"b\")\n",
    "pred_y=model(x)## without training\n",
    "plt.scatter(x,pred_y, c=\"r\")\n",
    "plt.show()"
   ]
  },
  {
   "cell_type": "code",
   "execution_count": 54,
   "id": "895a314b",
   "metadata": {},
   "outputs": [
    {
     "data": {
      "text/plain": [
       "8.928176"
      ]
     },
     "execution_count": 54,
     "metadata": {},
     "output_type": "execute_result"
    }
   ],
   "source": [
    "current_loss=MSE_loss(y, model(x))\n",
    "current_loss.numpy()"
   ]
  },
  {
   "cell_type": "markdown",
   "id": "ceec1ba5",
   "metadata": {},
   "source": [
    "# Lets define the traning"
   ]
  },
  {
   "cell_type": "code",
   "execution_count": 59,
   "id": "faee630f",
   "metadata": {},
   "outputs": [],
   "source": [
    "def train(model,x,y,learning_rate):\n",
    "    with tf.GradientTape() as tape:\n",
    "        current_loss=MSE_loss(y, model(x))\n",
    "    dc_dw,dc_db=tape.gradient(current_loss,[model.w,model.b])\n",
    "    model.w.assign_sub(learning_rate * dc_dw)\n",
    "    model.b.assign_sub(learning_rate * dc_db)"
   ]
  },
  {
   "cell_type": "code",
   "execution_count": 64,
   "id": "cf0b803a",
   "metadata": {},
   "outputs": [
    {
     "name": "stdout",
     "output_type": "stream",
     "text": [
      "Initial W: 5.0, initial bias: 0.0, initial_loss:8.928175926208496\n"
     ]
    }
   ],
   "source": [
    "model=MyModel()\n",
    "ws,bs=[],[]\n",
    "epochs=20\n",
    "learning_rate=0.1\n",
    "w=model.w.numpy()\n",
    "b=model.b.numpy()\n",
    "init_loss=MSE_loss(y, model(x))\n",
    "print(f\"Initial W: {w}, initial bias: {b}, initial_loss:{init_loss}\")"
   ]
  },
  {
   "cell_type": "code",
   "execution_count": 65,
   "id": "b283e7cc",
   "metadata": {},
   "outputs": [
    {
     "name": "stdout",
     "output_type": "stream",
     "text": [
      "For epoch: 0, W: [], b: 0.3861590325832367, Current_loss: 6.143885612487793\n",
      "For epoch: 1, W: [4.600472], b: 0.6974221467971802, Current_loss: 4.345661163330078\n",
      "For epoch: 2, W: [4.600472, 4.280295], b: 0.9483045339584351, Current_loss: 3.1842470169067383\n",
      "For epoch: 3, W: [4.600472, 4.280295, 4.0236983], b: 1.150510549545288, Current_loss: 2.434103012084961\n",
      "For epoch: 4, W: [4.600472, 4.280295, 4.0236983, 3.818048], b: 1.3134777545928955, Current_loss: 1.9495786428451538\n",
      "For epoch: 5, W: [4.600472, 4.280295, 4.0236983, 3.818048, 3.653222], b: 1.4448151588439941, Current_loss: 1.6366108655929565\n",
      "For epoch: 6, W: [4.600472, 4.280295, 4.0236983, 3.818048, 3.653222, 3.5211112], b: 1.5506573915481567, Current_loss: 1.434450626373291\n",
      "For epoch: 7, W: [4.600472, 4.280295, 4.0236983, 3.818048, 3.653222, 3.5211112, 3.4152179], b: 1.6359503269195557, Current_loss: 1.3038619756698608\n",
      "For epoch: 8, W: [4.600472, 4.280295, 4.0236983, 3.818048, 3.653222, 3.5211112, 3.4152179, 3.3303356], b: 1.7046809196472168, Current_loss: 1.2195042371749878\n",
      "For epoch: 9, W: [4.600472, 4.280295, 4.0236983, 3.818048, 3.653222, 3.5211112, 3.4152179, 3.3303356, 3.262293], b: 1.7600631713867188, Current_loss: 1.165008783340454\n",
      "For epoch: 10, W: [4.600472, 4.280295, 4.0236983, 3.818048, 3.653222, 3.5211112, 3.4152179, 3.3303356, 3.262293, 3.2077472], b: 1.8046879768371582, Current_loss: 1.1298038959503174\n",
      "For epoch: 11, W: [4.600472, 4.280295, 4.0236983, 3.818048, 3.653222, 3.5211112, 3.4152179, 3.3303356, 3.262293, 3.2077472, 3.164019], b: 1.8406434059143066, Current_loss: 1.1070603132247925\n",
      "For epoch: 12, W: [4.600472, 4.280295, 4.0236983, 3.818048, 3.653222, 3.5211112, 3.4152179, 3.3303356, 3.262293, 3.2077472, 3.164019, 3.1289623], b: 1.869612693786621, Current_loss: 1.0923669338226318\n",
      "For epoch: 13, W: [4.600472, 4.280295, 4.0236983, 3.818048, 3.653222, 3.5211112, 3.4152179, 3.3303356, 3.262293, 3.2077472, 3.164019, 3.1289623, 3.100856], b: 1.8929524421691895, Current_loss: 1.0828739404678345\n",
      "For epoch: 14, W: [4.600472, 4.280295, 4.0236983, 3.818048, 3.653222, 3.5211112, 3.4152179, 3.3303356, 3.262293, 3.2077472, 3.164019, 3.1289623, 3.100856, 3.0783215], b: 1.9117560386657715, Current_loss: 1.0767408609390259\n",
      "For epoch: 15, W: [4.600472, 4.280295, 4.0236983, 3.818048, 3.653222, 3.5211112, 3.4152179, 3.3303356, 3.262293, 3.2077472, 3.164019, 3.1289623, 3.100856, 3.0783215, 3.0602534], b: 1.926904559135437, Current_loss: 1.0727781057357788\n",
      "For epoch: 16, W: [4.600472, 4.280295, 4.0236983, 3.818048, 3.653222, 3.5211112, 3.4152179, 3.3303356, 3.262293, 3.2077472, 3.164019, 3.1289623, 3.100856, 3.0783215, 3.0602534, 3.0457659], b: 1.9391080141067505, Current_loss: 1.0702179670333862\n",
      "For epoch: 17, W: [4.600472, 4.280295, 4.0236983, 3.818048, 3.653222, 3.5211112, 3.4152179, 3.3303356, 3.262293, 3.2077472, 3.164019, 3.1289623, 3.100856, 3.0783215, 3.0602534, 3.0457659, 3.0341492], b: 1.9489387273788452, Current_loss: 1.0685635805130005\n",
      "For epoch: 18, W: [4.600472, 4.280295, 4.0236983, 3.818048, 3.653222, 3.5211112, 3.4152179, 3.3303356, 3.262293, 3.2077472, 3.164019, 3.1289623, 3.100856, 3.0783215, 3.0602534, 3.0457659, 3.0341492, 3.024834], b: 1.9568578004837036, Current_loss: 1.0674948692321777\n",
      "For epoch: 19, W: [4.600472, 4.280295, 4.0236983, 3.818048, 3.653222, 3.5211112, 3.4152179, 3.3303356, 3.262293, 3.2077472, 3.164019, 3.1289623, 3.100856, 3.0783215, 3.0602534, 3.0457659, 3.0341492, 3.024834, 3.017364], b: 1.963236689567566, Current_loss: 1.0668041706085205\n"
     ]
    }
   ],
   "source": [
    "for epoch in range(epochs):\n",
    "    train(model,x,y,learning_rate)\n",
    "    ws.append(model.w.numpy())\n",
    "    bs.append(model.b.numpy())\n",
    "    current_loss=MSE_loss(y, model(x))\n",
    "    print(f\"For epoch: {epoch}, W: {ws[:-1]}, b: {bs[-1]}, Current_loss: {current_loss}\")"
   ]
  },
  {
   "cell_type": "code",
   "execution_count": 66,
   "id": "62d372ec",
   "metadata": {},
   "outputs": [
    {
     "data": {
      "image/png": "[encoded data removed]",
      "text/plain": [
       "<Figure size 432x288 with 1 Axes>"
      ]
     },
     "metadata": {
      "needs_background": "light"
     },
     "output_type": "display_data"
    }
   ],
   "source": [
    "plt.plot(range(epochs), ws,'r',range(epochs),bs,'b')\n",
    "plt.plot([TRUE_W] * epochs,\"r--\",[TRUE_B]*epochs,\"b--\")\n",
    "plt.legend([\"w\",\"b\",\"True W\",\"True_B\"])\n",
    "plt.show()"
   ]
  },
  {
   "cell_type": "code",
   "execution_count": 67,
   "id": "ce61b537",
   "metadata": {},
   "outputs": [
    {
     "data": {
      "image/png": "[encoded data removed]",
      "text/plain": [
       "<Figure size 432x288 with 1 Axes>"
      ]
     },
     "metadata": {
      "needs_background": "light"
     },
     "output_type": "display_data"
    }
   ],
   "source": [
    "plt.scatter(x,y, c=\"b\")\n",
    "pred_y=model(x)## after training\n",
    "plt.scatter(x,pred_y, c=\"r\")\n",
    "plt.show()"
   ]
  },
  {
   "cell_type": "code",
   "execution_count": null,
   "id": "b4b34501",
   "metadata": {},
   "outputs": [],
   "source": []
  }
 ],
 "metadata": {
  "kernelspec": {
   "display_name": "Python 3 (ipykernel)",
   "language": "python",
   "name": "python3"
  },
  "language_info": {
   "codemirror_mode": {
    "name": "ipython",
    "version": 3
   },
   "file_extension": ".py",
   "mimetype": "text/x-python",
   "name": "python",
   "nbconvert_exporter": "python",
   "pygments_lexer": "ipython3",
   "version": "3.7.0"
  }
 },
 "nbformat": 4,
 "nbformat_minor": 5
}
