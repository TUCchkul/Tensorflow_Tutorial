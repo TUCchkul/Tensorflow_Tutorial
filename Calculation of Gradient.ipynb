{
 "cells": [
  {
   "cell_type": "code",
   "execution_count": 1,
   "id": "1a3db589",
   "metadata": {},
   "outputs": [],
   "source": [
    "import tensorflow as tf"
   ]
  },
  {
   "cell_type": "code",
   "execution_count": 2,
   "id": "b4995990",
   "metadata": {},
   "outputs": [],
   "source": [
    "x=tf.random.normal(shape=(2,2))\n",
    "y=tf.random.normal(shape=(2,2))"
   ]
  },
  {
   "cell_type": "markdown",
   "id": "d9dc39a0",
   "metadata": {},
   "source": [
    "$ f(x,y) = \\sqrt{(x^2 +y^2)}$\n",
    "\n",
    "$ \\nabla f(x,y) = \\frac{\\partial f}{\\partial x} \\hat{\\imath} + \\frac{\\partial f}{\\partial y} \\hat{\\imath}$"
   ]
  },
  {
   "cell_type": "code",
   "execution_count": 5,
   "id": "db87cb2e",
   "metadata": {},
   "outputs": [
    {
     "name": "stdout",
     "output_type": "stream",
     "text": [
      "tf.Tensor(\n",
      "[[ 0.9717826   0.50861585]\n",
      " [-0.09010362 -0.2214592 ]], shape=(2, 2), dtype=float32)\n"
     ]
    }
   ],
   "source": [
    "with tf.GradientTape() as tape:\n",
    "    tape.watch(x)##I want to calcuate gradient wrt x\n",
    "    f=tf.sqrt(tf.square(x) + tf.square(y))\n",
    "    df_dx=tape.gradient(f,x)\n",
    "    print(df_dx)"
   ]
  },
  {
   "cell_type": "code",
   "execution_count": 7,
   "id": "a8ffbe4b",
   "metadata": {},
   "outputs": [
    {
     "name": "stdout",
     "output_type": "stream",
     "text": [
      "tf.Tensor(\n",
      "[[ 0.2358785  -0.8609936 ]\n",
      " [-0.9959324  -0.97516966]], shape=(2, 2), dtype=float32)\n"
     ]
    }
   ],
   "source": [
    "with tf.GradientTape() as tape:\n",
    "    tape.watch(y)### I want to calculate gradient of y wrt y\n",
    "    f=tf.sqrt(tf.square(x)+tf.square(y))\n",
    "    df_dy=tape.gradient(f,y)\n",
    "    print(df_dy)"
   ]
  },
  {
   "cell_type": "code",
   "execution_count": 9,
   "id": "4497a41a",
   "metadata": {},
   "outputs": [
    {
     "name": "stdout",
     "output_type": "stream",
     "text": [
      "None\n",
      "None\n"
     ]
    }
   ],
   "source": [
    "with tf.GradientTape() as tape:\n",
    "    #tape.watch(x)\n",
    "    #tape.watch(y)\n",
    "    f=tf.sqrt(tf.square(x)+tf.square(y))\n",
    "    df_dx,df_dy=tape.gradient(f,[x,y])\n",
    "    print(df_dx)\n",
    "    print(df_dy)"
   ]
  },
  {
   "cell_type": "code",
   "execution_count": 10,
   "id": "0cf9a8e4",
   "metadata": {},
   "outputs": [
    {
     "name": "stdout",
     "output_type": "stream",
     "text": [
      "tf.Tensor(\n",
      "[[ 0.9717826   0.50861585]\n",
      " [-0.09010362 -0.2214592 ]], shape=(2, 2), dtype=float32)\n",
      "tf.Tensor(\n",
      "[[ 0.2358785  -0.8609936 ]\n",
      " [-0.9959324  -0.97516966]], shape=(2, 2), dtype=float32)\n"
     ]
    }
   ],
   "source": [
    "with tf.GradientTape() as tape:\n",
    "    tape.watch(x)\n",
    "    tape.watch(y)\n",
    "    f=tf.sqrt(tf.square(x)+tf.square(y))\n",
    "    df_dx,df_dy=tape.gradient(f,[x,y])\n",
    "    print(df_dx)\n",
    "    print(df_dy)"
   ]
  },
  {
   "cell_type": "markdown",
   "id": "f29b9307",
   "metadata": {},
   "source": [
    "# Without using tape we can calculate gradient by using tf.Variable"
   ]
  },
  {
   "cell_type": "code",
   "execution_count": 11,
   "id": "8792f32f",
   "metadata": {},
   "outputs": [],
   "source": [
    "x1=tf.Variable(tf.random.normal(shape=(2,2)))\n",
    "y1=tf.Variable(tf.random.normal(shape=(2,2)))"
   ]
  },
  {
   "cell_type": "code",
   "execution_count": 13,
   "id": "62bad528",
   "metadata": {},
   "outputs": [
    {
     "name": "stdout",
     "output_type": "stream",
     "text": [
      "tf.Tensor(\n",
      "[[0.91369456 0.9852344 ]\n",
      " [0.22150484 0.20765918]], shape=(2, 2), dtype=float32)\n",
      "tf.Tensor(\n",
      "[[-0.40640152  0.17121102]\n",
      " [-0.9751592  -0.97820115]], shape=(2, 2), dtype=float32)\n"
     ]
    }
   ],
   "source": [
    "with tf.GradientTape() as tape:\n",
    "    f=tf.sqrt(tf.square(x1)+tf.square(y1))\n",
    "    df_dx,df_dy=tape.gradient(f,[x1,y1])\n",
    "    print(df_dx)\n",
    "    print(df_dy)"
   ]
  },
  {
   "cell_type": "code",
   "execution_count": 14,
   "id": "12eecd81",
   "metadata": {},
   "outputs": [],
   "source": [
    "x=tf.Variable(3.)\n",
    "y=tf.Variable(2.)\n"
   ]
  },
  {
   "cell_type": "code",
   "execution_count": 15,
   "id": "625bc7a8",
   "metadata": {},
   "outputs": [
    {
     "name": "stdout",
     "output_type": "stream",
     "text": [
      "tf.Tensor(0.8320503, shape=(), dtype=float32)\n",
      "tf.Tensor(0.5547002, shape=(), dtype=float32)\n"
     ]
    }
   ],
   "source": [
    "with tf.GradientTape() as tape:\n",
    "    f=tf.sqrt(tf.square(x)+tf.square(y))\n",
    "    df_dx,df_dy=tape.gradient(f,[x,y])\n",
    "    print(df_dx)\n",
    "    print(df_dy)"
   ]
  },
  {
   "cell_type": "markdown",
   "id": "c9220a3d",
   "metadata": {},
   "source": [
    "## Simple Linear Regreassion Example"
   ]
  },
  {
   "cell_type": "markdown",
   "id": "11c6ede8",
   "metadata": {},
   "source": [
    "$ f(x) =W.x +b $"
   ]
  },
  {
   "cell_type": "code",
   "execution_count": 21,
   "id": "6f175906",
   "metadata": {},
   "outputs": [],
   "source": [
    "TRUE_W=3.0\n",
    "TRUE_B=2.0\n",
    "NUM_EXAMPLES=1000\n",
    "x=tf.random.normal(shape=[NUM_EXAMPLES])"
   ]
  },
  {
   "cell_type": "code",
   "execution_count": 43,
   "id": "89fa4939",
   "metadata": {},
   "outputs": [],
   "source": [
    "noise=tf.random.normal(shape=[NUM_EXAMPLES])"
   ]
  },
  {
   "cell_type": "code",
   "execution_count": 44,
   "id": "6b64fec8",
   "metadata": {},
   "outputs": [],
   "source": [
    "y=x*TRUE_W + TRUE_B + noise"
   ]
  },
  {
   "cell_type": "code",
   "execution_count": 45,
   "id": "99d361b9",
   "metadata": {},
   "outputs": [
    {
     "data": {
      "image/png": "[encoded data removed]",
      "text/plain": [
       "<Figure size 432x288 with 1 Axes>"
      ]
     },
     "metadata": {
      "needs_background": "light"
     },
     "output_type": "display_data"
    }
   ],
   "source": [
    "import matplotlib.pyplot as plt\n",
    "plt.scatter(x,y, c=\"b\")\n",
    "plt.show()"
   ]
  },
  {
   "cell_type": "code",
   "execution_count": 28,
   "id": "c75838f9",
   "metadata": {},
   "outputs": [],
   "source": [
    "y=x*TRUE_W + TRUE_B "
   ]
  },
  {
   "cell_type": "code",
   "execution_count": 30,
   "id": "1e01caf8",
   "metadata": {},
   "outputs": [
    {
     "data": {
      "image/png": "[encoded data removed]",
      "text/plain": [
       "<Figure size 432x288 with 1 Axes>"
      ]
     },
     "metadata": {
      "needs_background": "light"
     },
     "output_type": "display_data"
    }
   ],
   "source": [
    "import matplotlib.pyplot as plt\n",
    "plt.scatter(x,y, c=\"b\")\n",
    "plt.show()"
   ]
  },
  {
   "cell_type": "markdown",
   "id": "ff182ebb",
   "metadata": {},
   "source": [
    "# Lest define a model"
   ]
  },
  {
   "cell_type": "code",
   "execution_count": 46,
   "id": "9599ec39",
   "metadata": {},
   "outputs": [],
   "source": [
    "class MyModel(tf.Module):\n",
    "    def __init__(self, **kwargs):\n",
    "        super().__init__(**kwargs)\n",
    "        #initialize weights\n",
    "        self.w=tf.Variable(5.0)\n",
    "        self.b=tf.Variable(0.0)\n",
    "    def __call__(self,x):\n",
    "        \n",
    "        return self.w*x+self.b"
   ]
  },
  {
   "cell_type": "code",
   "execution_count": 47,
   "id": "a6edf9ab",
   "metadata": {},
   "outputs": [],
   "source": [
    "model=MyModel()"
   ]
  },
  {
   "cell_type": "code",
   "execution_count": 48,
   "id": "dc04e27f",
   "metadata": {},
   "outputs": [
    {
     "data": {
      "text/plain": [
       "<tf.Tensor: shape=(), dtype=float32, numpy=15.0>"
      ]
     },
     "execution_count": 48,
     "metadata": {},
     "output_type": "execute_result"
    }
   ],
   "source": [
    "model(3)"
   ]
  },
  {
   "cell_type": "code",
   "execution_count": null,
   "id": "6db9a10c",
   "metadata": {},
   "outputs": [],
   "source": []
  },
  {
   "cell_type": "code",
   "execution_count": 49,
   "id": "77e03ece",
   "metadata": {},
   "outputs": [
    {
     "data": {
      "text/plain": [
       "<tf.Variable 'Variable:0' shape=() dtype=float32, numpy=5.0>"
      ]
     },
     "execution_count": 49,
     "metadata": {},
     "output_type": "execute_result"
    }
   ],
   "source": [
    "model.w"
   ]
  },
  {
   "cell_type": "code",
   "execution_count": 50,
   "id": "38d2fecb",
   "metadata": {},
   "outputs": [
    {
     "data": {
      "text/plain": [
       "<tf.Variable 'Variable:0' shape=() dtype=float32, numpy=0.0>"
      ]
     },
     "execution_count": 50,
     "metadata": {},
     "output_type": "execute_result"
    }
   ],
   "source": [
    "model.b"
   ]
  },
  {
   "cell_type": "code",
   "execution_count": 51,
   "id": "68c4ca1d",
   "metadata": {},
   "outputs": [
    {
     "data": {
      "text/plain": [
       "(<tf.Variable 'Variable:0' shape=() dtype=float32, numpy=0.0>,\n",
       " <tf.Variable 'Variable:0' shape=() dtype=float32, numpy=5.0>)"
      ]
     },
     "execution_count": 51,
     "metadata": {},
     "output_type": "execute_result"
    }
   ],
   "source": [
    "model.variables"
   ]
  },
  {
   "cell_type": "markdown",
   "id": "95f51ccb",
   "metadata": {},
   "source": [
    "# Lest define the loss function"
   ]
  },
  {
   "cell_type": "code",
   "execution_count": 52,
   "id": "90bdb702",
   "metadata": {},
   "outputs": [],
   "source": [
    "def MSE_loss(target_y, predicted_y):\n",
    "    error=target_y-predicted_y\n",
    "    squared_error=tf.square(error)\n",
    "    mse=tf.reduce_mean(squared_error)\n",
    "    return mse"
   ]
  },
  {
   "cell_type": "code",
   "execution_count": 53,
   "id": "9352356d",
   "metadata": {},
   "outputs": [
    {
     "data": {
      "image/png": "[encoded data removed]",
      "text/plain": [
       "<Figure size 432x288 with 1 Axes>"
      ]
     },
     "metadata": {
      "needs_background": "light"
     },
     "output_type": "display_data"
    }
   ],
   "source": [
    "plt.scatter(x,y, c=\"b\")\n",
    "pred_y=model(x)\n",
    "plt.scatter(x,pred_y, c=\"r\")\n",
    "plt.show()"
   ]
  },
  {
   "cell_type": "code",
   "execution_count": null,
   "id": "6be68d81",
   "metadata": {},
   "outputs": [],
   "source": []
  }
 ],
 "metadata": {
  "kernelspec": {
   "display_name": "Python 3 (ipykernel)",
   "language": "python",
   "name": "python3"
  },
  "language_info": {
   "codemirror_mode": {
    "name": "ipython",
    "version": 3
   },
   "file_extension": ".py",
   "mimetype": "text/x-python",
   "name": "python",
   "nbconvert_exporter": "python",
   "pygments_lexer": "ipython3",
   "version": "3.7.0"
  }
 },
 "nbformat": 4,
 "nbformat_minor": 5
}
