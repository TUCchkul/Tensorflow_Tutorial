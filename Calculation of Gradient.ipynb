{
 "cells": [
  {
   "cell_type": "code",
   "execution_count": 1,
   "id": "642bf1ce",
   "metadata": {},
   "outputs": [],
   "source": [
    "import tensorflow as tf"
   ]
  },
  {
   "cell_type": "code",
   "execution_count": 2,
   "id": "7b976bab",
   "metadata": {},
   "outputs": [],
   "source": [
    "x=tf.random.normal(shape=(2,2))\n",
    "y=tf.random.normal(shape=(2,2))"
   ]
  },
  {
   "cell_type": "markdown",
   "id": "ba6defda",
   "metadata": {},
   "source": [
    "$ f(x,y) = \\sqrt{(x^2 +y^2)}$\n",
    "\n",
    "$ \\nabla f(x,y) = \\frac{\\partial f}{\\partial x} \\hat{\\imath} + \\frac{\\partial f}{\\partial y} \\hat{\\imath}$"
   ]
  },
  {
   "cell_type": "code",
   "execution_count": 5,
   "id": "44cdfcb8",
   "metadata": {},
   "outputs": [
    {
     "name": "stdout",
     "output_type": "stream",
     "text": [
      "tf.Tensor(\n",
      "[[ 0.9717826   0.50861585]\n",
      " [-0.09010362 -0.2214592 ]], shape=(2, 2), dtype=float32)\n"
     ]
    }
   ],
   "source": [
    "with tf.GradientTape() as tape:\n",
    "    tape.watch(x)##I want to calcuate gradient wrt x\n",
    "    f=tf.sqrt(tf.square(x) + tf.square(y))\n",
    "    df_dx=tape.gradient(f,x)\n",
    "    print(df_dx)"
   ]
  },
  {
   "cell_type": "code",
   "execution_count": 7,
   "id": "0ceaa513",
   "metadata": {},
   "outputs": [
    {
     "name": "stdout",
     "output_type": "stream",
     "text": [
      "tf.Tensor(\n",
      "[[ 0.2358785  -0.8609936 ]\n",
      " [-0.9959324  -0.97516966]], shape=(2, 2), dtype=float32)\n"
     ]
    }
   ],
   "source": [
    "with tf.GradientTape() as tape:\n",
    "    tape.watch(y)### I want to calculate gradient of y wrt y\n",
    "    f=tf.sqrt(tf.square(x)+tf.square(y))\n",
    "    df_dy=tape.gradient(f,y)\n",
    "    print(df_dy)"
   ]
  },
  {
   "cell_type": "code",
   "execution_count": 9,
   "id": "4c57e5b3",
   "metadata": {},
   "outputs": [
    {
     "name": "stdout",
     "output_type": "stream",
     "text": [
      "None\n",
      "None\n"
     ]
    }
   ],
   "source": [
    "with tf.GradientTape() as tape:\n",
    "    #tape.watch(x)\n",
    "    #tape.watch(y)\n",
    "    f=tf.sqrt(tf.square(x)+tf.square(y))\n",
    "    df_dx,df_dy=tape.gradient(f,[x,y])\n",
    "    print(df_dx)\n",
    "    print(df_dy)"
   ]
  },
  {
   "cell_type": "code",
   "execution_count": 10,
   "id": "c759bfb0",
   "metadata": {},
   "outputs": [
    {
     "name": "stdout",
     "output_type": "stream",
     "text": [
      "tf.Tensor(\n",
      "[[ 0.9717826   0.50861585]\n",
      " [-0.09010362 -0.2214592 ]], shape=(2, 2), dtype=float32)\n",
      "tf.Tensor(\n",
      "[[ 0.2358785  -0.8609936 ]\n",
      " [-0.9959324  -0.97516966]], shape=(2, 2), dtype=float32)\n"
     ]
    }
   ],
   "source": [
    "with tf.GradientTape() as tape:\n",
    "    tape.watch(x)\n",
    "    tape.watch(y)\n",
    "    f=tf.sqrt(tf.square(x)+tf.square(y))\n",
    "    df_dx,df_dy=tape.gradient(f,[x,y])\n",
    "    print(df_dx)\n",
    "    print(df_dy)"
   ]
  },
  {
   "cell_type": "markdown",
   "id": "b9580123",
   "metadata": {},
   "source": [
    "# Without using tape we can calculate gradient by using tf.Variable"
   ]
  },
  {
   "cell_type": "code",
   "execution_count": 11,
   "id": "eaaa6a61",
   "metadata": {},
   "outputs": [],
   "source": [
    "x1=tf.Variable(tf.random.normal(shape=(2,2)))\n",
    "y1=tf.Variable(tf.random.normal(shape=(2,2)))"
   ]
  },
  {
   "cell_type": "code",
   "execution_count": 13,
   "id": "536c2feb",
   "metadata": {},
   "outputs": [
    {
     "name": "stdout",
     "output_type": "stream",
     "text": [
      "tf.Tensor(\n",
      "[[0.91369456 0.9852344 ]\n",
      " [0.22150484 0.20765918]], shape=(2, 2), dtype=float32)\n",
      "tf.Tensor(\n",
      "[[-0.40640152  0.17121102]\n",
      " [-0.9751592  -0.97820115]], shape=(2, 2), dtype=float32)\n"
     ]
    }
   ],
   "source": [
    "with tf.GradientTape() as tape:\n",
    "    f=tf.sqrt(tf.square(x1)+tf.square(y1))\n",
    "    df_dx,df_dy=tape.gradient(f,[x1,y1])\n",
    "    print(df_dx)\n",
    "    print(df_dy)"
   ]
  },
  {
   "cell_type": "code",
   "execution_count": 14,
   "id": "55a75ebd",
   "metadata": {},
   "outputs": [],
   "source": [
    "x=tf.Variable(3.)\n",
    "y=tf.Variable(2.)\n"
   ]
  },
  {
   "cell_type": "code",
   "execution_count": 15,
   "id": "ffa2044f",
   "metadata": {},
   "outputs": [
    {
     "name": "stdout",
     "output_type": "stream",
     "text": [
      "tf.Tensor(0.8320503, shape=(), dtype=float32)\n",
      "tf.Tensor(0.5547002, shape=(), dtype=float32)\n"
     ]
    }
   ],
   "source": [
    "with tf.GradientTape() as tape:\n",
    "    f=tf.sqrt(tf.square(x)+tf.square(y))\n",
    "    df_dx,df_dy=tape.gradient(f,[x,y])\n",
    "    print(df_dx)\n",
    "    print(df_dy)"
   ]
  },
  {
   "cell_type": "markdown",
   "id": "5cad54c6",
   "metadata": {},
   "source": [
    "## Simple Linear Regreassion Example"
   ]
  },
  {
   "cell_type": "markdown",
   "id": "4bb4edef",
   "metadata": {},
   "source": [
    "$ f(x) =W.x +b $"
   ]
  },
  {
   "cell_type": "code",
   "execution_count": 21,
   "id": "25405b05",
   "metadata": {},
   "outputs": [],
   "source": [
    "TRUE_W=3.0\n",
    "TRUE_B=2.0\n",
    "NUM_EXAMPLES=1000\n",
    "x=tf.random.normal(shape=[NUM_EXAMPLES])"
   ]
  },
  {
   "cell_type": "code",
   "execution_count": 22,
   "id": "bbc3ea3e",
   "metadata": {},
   "outputs": [],
   "source": [
    "noise=tf.random.normal(shape=[NUM_EXAMPLES])"
   ]
  },
  {
   "cell_type": "code",
   "execution_count": 23,
   "id": "95008b86",
   "metadata": {},
   "outputs": [],
   "source": [
    "y=x*TRUE_W + TRUE_B + noise"
   ]
  },
  {
   "cell_type": "code",
   "execution_count": 26,
   "id": "298768da",
   "metadata": {},
   "outputs": [
    {
     "data": {
      "image/png": "[encoded data removed]",
      "text/plain": [
       "<Figure size 432x288 with 1 Axes>"
      ]
     },
     "metadata": {
      "needs_background": "light"
     },
     "output_type": "display_data"
    }
   ],
   "source": [
    "import matplotlib.pyplot as plt\n",
    "plt.scatter(x,y, c=\"b\")\n",
    "plt.show()"
   ]
  },
  {
   "cell_type": "code",
   "execution_count": null,
   "id": "faf142b5",
   "metadata": {},
   "outputs": [],
   "source": []
  }
 ],
 "metadata": {
  "kernelspec": {
   "display_name": "Python 3 (ipykernel)",
   "language": "python",
   "name": "python3"
  },
  "language_info": {
   "codemirror_mode": {
    "name": "ipython",
    "version": 3
   },
   "file_extension": ".py",
   "mimetype": "text/x-python",
   "name": "python",
   "nbconvert_exporter": "python",
   "pygments_lexer": "ipython3",
   "version": "3.7.0"
  }
 },
 "nbformat": 4,
 "nbformat_minor": 5
}
