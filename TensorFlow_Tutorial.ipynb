{
 "cells": [
  {
   "cell_type": "code",
   "execution_count": 1,
   "id": "0d97d1bd",
   "metadata": {},
   "outputs": [],
   "source": [
    "import tensorflow as tf"
   ]
  },
  {
   "cell_type": "code",
   "execution_count": 2,
   "id": "1887edcf",
   "metadata": {},
   "outputs": [],
   "source": [
    "const_mat=tf.constant([[1,2],[4,5]])"
   ]
  },
  {
   "cell_type": "code",
   "execution_count": 3,
   "id": "5ea6a2c5",
   "metadata": {},
   "outputs": [
    {
     "data": {
      "text/plain": [
       "<tf.Tensor: shape=(2, 2), dtype=int32, numpy=\n",
       "array([[1, 2],\n",
       "       [4, 5]])>"
      ]
     },
     "execution_count": 3,
     "metadata": {},
     "output_type": "execute_result"
    }
   ],
   "source": [
    "const_mat"
   ]
  },
  {
   "cell_type": "code",
   "execution_count": 4,
   "id": "851e233b",
   "metadata": {},
   "outputs": [
    {
     "data": {
      "text/plain": [
       "TensorShape([2, 2])"
      ]
     },
     "execution_count": 4,
     "metadata": {},
     "output_type": "execute_result"
    }
   ],
   "source": [
    "const_mat.shape"
   ]
  },
  {
   "cell_type": "code",
   "execution_count": 5,
   "id": "acec7d3a",
   "metadata": {},
   "outputs": [
    {
     "data": {
      "text/plain": [
       "tf.int32"
      ]
     },
     "execution_count": 5,
     "metadata": {},
     "output_type": "execute_result"
    }
   ],
   "source": [
    "const_mat.dtype"
   ]
  },
  {
   "cell_type": "code",
   "execution_count": 6,
   "id": "0acf5bba",
   "metadata": {},
   "outputs": [
    {
     "data": {
      "text/plain": [
       "<tf.Tensor: shape=(), dtype=int32, numpy=1>"
      ]
     },
     "execution_count": 6,
     "metadata": {},
     "output_type": "execute_result"
    }
   ],
   "source": [
    "const_mat[0][0]"
   ]
  },
  {
   "cell_type": "code",
   "execution_count": 7,
   "id": "48810a1b",
   "metadata": {},
   "outputs": [
    {
     "ename": "TypeError",
     "evalue": "'tensorflow.python.framework.ops.EagerTensor' object does not support item assignment",
     "output_type": "error",
     "traceback": [
      "\u001b[1;31m---------------------------------------------------------------------------\u001b[0m",
      "\u001b[1;31mTypeError\u001b[0m                                 Traceback (most recent call last)",
      "\u001b[1;32m~\\AppData\\Local\\Temp\\ipykernel_2548\\245905714.py\u001b[0m in \u001b[0;36m<module>\u001b[1;34m\u001b[0m\n\u001b[1;32m----> 1\u001b[1;33m \u001b[0mconst_mat\u001b[0m\u001b[1;33m[\u001b[0m\u001b[1;36m0\u001b[0m\u001b[1;33m]\u001b[0m\u001b[1;33m[\u001b[0m\u001b[1;36m0\u001b[0m\u001b[1;33m]\u001b[0m\u001b[1;33m=\u001b[0m\u001b[1;36m32\u001b[0m\u001b[1;33m\u001b[0m\u001b[0m\n\u001b[0m",
      "\u001b[1;31mTypeError\u001b[0m: 'tensorflow.python.framework.ops.EagerTensor' object does not support item assignment"
     ]
    }
   ],
   "source": [
    "const_mat[0][0]=32"
   ]
  },
  {
   "cell_type": "markdown",
   "id": "32115f96",
   "metadata": {},
   "source": [
    "# Commonly used method"
   ]
  },
  {
   "cell_type": "code",
   "execution_count": 8,
   "id": "a6ed70d1",
   "metadata": {},
   "outputs": [
    {
     "data": {
      "text/plain": [
       "<tf.Tensor: shape=(2, 3), dtype=float32, numpy=\n",
       "array([[1., 1., 1.],\n",
       "       [1., 1., 1.]], dtype=float32)>"
      ]
     },
     "execution_count": 8,
     "metadata": {},
     "output_type": "execute_result"
    }
   ],
   "source": [
    "tf.ones(shape=(2,3))"
   ]
  },
  {
   "cell_type": "code",
   "execution_count": 9,
   "id": "5965e0c6",
   "metadata": {},
   "outputs": [
    {
     "data": {
      "text/plain": [
       "<tf.Tensor: shape=(2, 3), dtype=float32, numpy=\n",
       "array([[-1., -1., -1.],\n",
       "       [-1., -1., -1.]], dtype=float32)>"
      ]
     },
     "execution_count": 9,
     "metadata": {},
     "output_type": "execute_result"
    }
   ],
   "source": [
    "-tf.ones(shape=(2,3))"
   ]
  },
  {
   "cell_type": "code",
   "execution_count": 10,
   "id": "b12bd134",
   "metadata": {},
   "outputs": [
    {
     "data": {
      "text/plain": [
       "<tf.Tensor: shape=(2, 3), dtype=float32, numpy=\n",
       "array([[6., 6., 6.],\n",
       "       [6., 6., 6.]], dtype=float32)>"
      ]
     },
     "execution_count": 10,
     "metadata": {},
     "output_type": "execute_result"
    }
   ],
   "source": [
    "6*tf.ones(shape=(2,3))"
   ]
  },
  {
   "cell_type": "code",
   "execution_count": 11,
   "id": "c472db19",
   "metadata": {},
   "outputs": [
    {
     "data": {
      "text/plain": [
       "<tf.Tensor: shape=(2, 4), dtype=float32, numpy=\n",
       "array([[0., 0., 0., 0.],\n",
       "       [0., 0., 0., 0.]], dtype=float32)>"
      ]
     },
     "execution_count": 11,
     "metadata": {},
     "output_type": "execute_result"
    }
   ],
   "source": [
    "tf.zeros(shape=(2,4))"
   ]
  },
  {
   "cell_type": "code",
   "execution_count": 12,
   "id": "a9990d43",
   "metadata": {},
   "outputs": [
    {
     "data": {
      "text/plain": [
       "<tf.Tensor: shape=(2, 5), dtype=float32, numpy=\n",
       "array([[0., 0., 0., 0., 0.],\n",
       "       [0., 0., 0., 0., 0.]], dtype=float32)>"
      ]
     },
     "execution_count": 12,
     "metadata": {},
     "output_type": "execute_result"
    }
   ],
   "source": [
    "# if want to use placeholder\n",
    "tf.zeros(shape=(2,5))"
   ]
  },
  {
   "cell_type": "markdown",
   "id": "7a172b49",
   "metadata": {},
   "source": [
    "# Add Operation"
   ]
  },
  {
   "cell_type": "code",
   "execution_count": 13,
   "id": "ef4945d4",
   "metadata": {},
   "outputs": [
    {
     "data": {
      "text/plain": [
       "<tf.Tensor: shape=(2, 3), dtype=int32, numpy=\n",
       "array([[ 4,  6,  8],\n",
       "       [10, 10, 10]])>"
      ]
     },
     "execution_count": 13,
     "metadata": {},
     "output_type": "execute_result"
    }
   ],
   "source": [
    "const1=tf.constant([[1,2,3],[4,5,6]])\n",
    "const2=tf.constant([[3,4,5],[6,5,4]])\n",
    "const1+const2"
   ]
  },
  {
   "cell_type": "code",
   "execution_count": 14,
   "id": "45210cdc",
   "metadata": {},
   "outputs": [
    {
     "data": {
      "text/plain": [
       "<tf.Tensor: shape=(2, 3), dtype=int32, numpy=\n",
       "array([[ 4,  6,  8],\n",
       "       [10, 10, 10]])>"
      ]
     },
     "execution_count": 14,
     "metadata": {},
     "output_type": "execute_result"
    }
   ],
   "source": [
    "tf.add(const1, const2)"
   ]
  },
  {
   "cell_type": "markdown",
   "id": "a3e5507e",
   "metadata": {},
   "source": [
    "# Define Random constant"
   ]
  },
  {
   "cell_type": "code",
   "execution_count": 16,
   "id": "1b022a6f",
   "metadata": {},
   "outputs": [
    {
     "data": {
      "text/plain": [
       "<tf.Tensor: shape=(2, 2), dtype=float32, numpy=\n",
       "array([[ 0.7632131 , -0.05170982],\n",
       "       [ 0.75062376,  0.44512075]], dtype=float32)>"
      ]
     },
     "execution_count": 16,
     "metadata": {},
     "output_type": "execute_result"
    }
   ],
   "source": [
    "tf.random.normal(shape=(2,2), mean=0, stddev=1.0)"
   ]
  },
  {
   "cell_type": "code",
   "execution_count": 17,
   "id": "aace257a",
   "metadata": {},
   "outputs": [
    {
     "data": {
      "text/plain": [
       "<tf.Tensor: shape=(2, 2), dtype=float32, numpy=\n",
       "array([[ 7.5903726, 12.793877 ],\n",
       "       [ 1.2498069, 10.140471 ]], dtype=float32)>"
      ]
     },
     "execution_count": 17,
     "metadata": {},
     "output_type": "execute_result"
    }
   ],
   "source": [
    "tf.random.uniform(shape=(2,2), minval=0,maxval=20)"
   ]
  },
  {
   "cell_type": "markdown",
   "id": "ebacef6c",
   "metadata": {},
   "source": [
    "# Variables"
   ]
  },
  {
   "cell_type": "code",
   "execution_count": 18,
   "id": "92247ed4",
   "metadata": {},
   "outputs": [],
   "source": [
    "var1=tf.Variable([[1,2,3],[4,5,6]])"
   ]
  },
  {
   "cell_type": "code",
   "execution_count": 19,
   "id": "2bdd4e85",
   "metadata": {},
   "outputs": [],
   "source": [
    "var2=tf.Variable(43)"
   ]
  },
  {
   "cell_type": "code",
   "execution_count": 20,
   "id": "9f4bd20a",
   "metadata": {},
   "outputs": [
    {
     "data": {
      "text/plain": [
       "<tf.Variable 'UnreadVariable' shape=() dtype=int32, numpy=56>"
      ]
     },
     "execution_count": 20,
     "metadata": {},
     "output_type": "execute_result"
    }
   ],
   "source": [
    "var2.assign(56)"
   ]
  },
  {
   "cell_type": "code",
   "execution_count": 21,
   "id": "a4836fd5",
   "metadata": {},
   "outputs": [
    {
     "data": {
      "text/plain": [
       "<tf.Variable 'Variable:0' shape=() dtype=int32, numpy=56>"
      ]
     },
     "execution_count": 21,
     "metadata": {},
     "output_type": "execute_result"
    }
   ],
   "source": [
    "var2"
   ]
  },
  {
   "cell_type": "markdown",
   "id": "15c47e76",
   "metadata": {},
   "source": [
    "var2=33"
   ]
  },
  {
   "cell_type": "code",
   "execution_count": 22,
   "id": "5df16fb9",
   "metadata": {},
   "outputs": [],
   "source": [
    "var2=33"
   ]
  },
  {
   "cell_type": "code",
   "execution_count": 23,
   "id": "5f85e052",
   "metadata": {},
   "outputs": [
    {
     "data": {
      "text/plain": [
       "int"
      ]
     },
     "execution_count": 23,
     "metadata": {},
     "output_type": "execute_result"
    }
   ],
   "source": [
    "type(var2)"
   ]
  },
  {
   "cell_type": "code",
   "execution_count": 24,
   "id": "c1f38724",
   "metadata": {},
   "outputs": [
    {
     "data": {
      "text/plain": [
       "<tf.Variable 'UnreadVariable' shape=(2, 3) dtype=int32, numpy=\n",
       "array([[22,  2,  3],\n",
       "       [ 4,  5,  6]])>"
      ]
     },
     "execution_count": 24,
     "metadata": {},
     "output_type": "execute_result"
    }
   ],
   "source": [
    "var1.assign([[22,2,3],[4,5,6]])"
   ]
  },
  {
   "cell_type": "code",
   "execution_count": 25,
   "id": "15993f32",
   "metadata": {},
   "outputs": [
    {
     "ename": "ValueError",
     "evalue": "Cannot assign value to variable ' Variable:0': Shape mismatch.The variable shape (2, 3), and the assigned value shape (3, 3) are incompatible.",
     "output_type": "error",
     "traceback": [
      "\u001b[1;31m---------------------------------------------------------------------------\u001b[0m",
      "\u001b[1;31mValueError\u001b[0m                                Traceback (most recent call last)",
      "\u001b[1;32m~\\AppData\\Local\\Temp\\ipykernel_2548\\860261117.py\u001b[0m in \u001b[0;36m<module>\u001b[1;34m\u001b[0m\n\u001b[1;32m----> 1\u001b[1;33m \u001b[0mvar1\u001b[0m\u001b[1;33m.\u001b[0m\u001b[0massign\u001b[0m\u001b[1;33m(\u001b[0m\u001b[1;33m[\u001b[0m\u001b[1;33m[\u001b[0m\u001b[1;36m22\u001b[0m\u001b[1;33m,\u001b[0m\u001b[1;36m2\u001b[0m\u001b[1;33m,\u001b[0m\u001b[1;36m3\u001b[0m\u001b[1;33m]\u001b[0m\u001b[1;33m,\u001b[0m\u001b[1;33m[\u001b[0m\u001b[1;36m4\u001b[0m\u001b[1;33m,\u001b[0m\u001b[1;36m5\u001b[0m\u001b[1;33m,\u001b[0m\u001b[1;36m6\u001b[0m\u001b[1;33m]\u001b[0m\u001b[1;33m,\u001b[0m\u001b[1;33m[\u001b[0m\u001b[1;36m6\u001b[0m\u001b[1;33m,\u001b[0m\u001b[1;36m7\u001b[0m\u001b[1;33m,\u001b[0m\u001b[1;36m8\u001b[0m\u001b[1;33m]\u001b[0m\u001b[1;33m]\u001b[0m\u001b[1;33m)\u001b[0m\u001b[1;33m\u001b[0m\u001b[0m\n\u001b[0m",
      "\u001b[1;32mD:\\DLCVANLP\\Tensorflow_Tutorial\\env\\lib\\site-packages\\tensorflow\\python\\ops\\resource_variable_ops.py\u001b[0m in \u001b[0;36massign\u001b[1;34m(self, value, use_locking, name, read_value)\u001b[0m\n\u001b[0;32m    910\u001b[0m           \u001b[0mtensor_name\u001b[0m \u001b[1;33m=\u001b[0m \u001b[1;34m\" \"\u001b[0m \u001b[1;33m+\u001b[0m \u001b[0mstr\u001b[0m\u001b[1;33m(\u001b[0m\u001b[0mself\u001b[0m\u001b[1;33m.\u001b[0m\u001b[0mname\u001b[0m\u001b[1;33m)\u001b[0m\u001b[1;33m\u001b[0m\u001b[0m\n\u001b[0;32m    911\u001b[0m         raise ValueError(\n\u001b[1;32m--> 912\u001b[1;33m             (f\"Cannot assign value to variable '{tensor_name}': Shape mismatch.\"\n\u001b[0m\u001b[0;32m    913\u001b[0m              \u001b[1;34mf\"The variable shape {self._shape}, and the \"\u001b[0m\u001b[1;33m\u001b[0m\u001b[0m\n\u001b[0;32m    914\u001b[0m              f\"assigned value shape {value_tensor.shape} are incompatible.\"))\n",
      "\u001b[1;31mValueError\u001b[0m: Cannot assign value to variable ' Variable:0': Shape mismatch.The variable shape (2, 3), and the assigned value shape (3, 3) are incompatible."
     ]
    }
   ],
   "source": [
    "var1.assign([[22,2,3],[4,5,6],[6,7,8]])"
   ]
  },
  {
   "cell_type": "code",
   "execution_count": 26,
   "id": "959ae078",
   "metadata": {},
   "outputs": [
    {
     "data": {
      "text/plain": [
       "<tf.Variable 'UnreadVariable' shape=(2, 3) dtype=int32, numpy=\n",
       "array([[22,  2,  3],\n",
       "       [ 4, 56,  6]])>"
      ]
     },
     "execution_count": 26,
     "metadata": {},
     "output_type": "execute_result"
    }
   ],
   "source": [
    "var1[1,1].assign(56)"
   ]
  },
  {
   "cell_type": "markdown",
   "id": "9eb79dbc",
   "metadata": {},
   "source": [
    "## reshape operation"
   ]
  },
  {
   "cell_type": "code",
   "execution_count": 27,
   "id": "c53675ea",
   "metadata": {},
   "outputs": [
    {
     "data": {
      "text/plain": [
       "TensorShape([2, 3])"
      ]
     },
     "execution_count": 27,
     "metadata": {},
     "output_type": "execute_result"
    }
   ],
   "source": [
    "tensor=tf.Variable([[22,2,3],[4,5,6]])\n",
    "tensor.shape"
   ]
  },
  {
   "cell_type": "code",
   "execution_count": 30,
   "id": "e5a4074c",
   "metadata": {},
   "outputs": [
    {
     "data": {
      "text/plain": [
       "<tf.Tensor: shape=(3, 2), dtype=int32, numpy=\n",
       "array([[22,  2],\n",
       "       [ 3,  4],\n",
       "       [ 5,  6]])>"
      ]
     },
     "execution_count": 30,
     "metadata": {},
     "output_type": "execute_result"
    }
   ],
   "source": [
    "tf.reshape(tensor,[3,2])"
   ]
  },
  {
   "cell_type": "code",
   "execution_count": 31,
   "id": "9d621626",
   "metadata": {},
   "outputs": [
    {
     "data": {
      "text/plain": [
       "<tf.Tensor: shape=(1, 6), dtype=int32, numpy=array([[22,  2,  3,  4,  5,  6]])>"
      ]
     },
     "execution_count": 31,
     "metadata": {},
     "output_type": "execute_result"
    }
   ],
   "source": [
    "tf.reshape(tensor,[1,6])"
   ]
  },
  {
   "cell_type": "code",
   "execution_count": 32,
   "id": "5de81a0e",
   "metadata": {},
   "outputs": [
    {
     "data": {
      "text/plain": [
       "<tf.Tensor: shape=(6, 1), dtype=int32, numpy=\n",
       "array([[22],\n",
       "       [ 2],\n",
       "       [ 3],\n",
       "       [ 4],\n",
       "       [ 5],\n",
       "       [ 6]])>"
      ]
     },
     "execution_count": 32,
     "metadata": {},
     "output_type": "execute_result"
    }
   ],
   "source": [
    "tf.reshape(tensor,[6,1])"
   ]
  },
  {
   "cell_type": "markdown",
   "id": "407826a9",
   "metadata": {},
   "source": [
    "## Other Mathematical operation"
   ]
  },
  {
   "cell_type": "code",
   "execution_count": 33,
   "id": "684602da",
   "metadata": {},
   "outputs": [
    {
     "data": {
      "text/plain": [
       "<tf.Tensor: shape=(2, 3), dtype=int32, numpy=\n",
       "array([[ 484,    4,    9],\n",
       "       [  16, 3136,   36]])>"
      ]
     },
     "execution_count": 33,
     "metadata": {},
     "output_type": "execute_result"
    }
   ],
   "source": [
    "tf.square(var1)"
   ]
  },
  {
   "cell_type": "markdown",
   "id": "c2ded9f4",
   "metadata": {},
   "source": [
    "# BroadCasting in TF"
   ]
  },
  {
   "cell_type": "code",
   "execution_count": 34,
   "id": "6d9c9c09",
   "metadata": {},
   "outputs": [
    {
     "data": {
      "text/plain": [
       "<tf.Variable 'Variable:0' shape=(2, 3) dtype=int32, numpy=\n",
       "array([[22,  2,  3],\n",
       "       [ 4,  5,  6]])>"
      ]
     },
     "execution_count": 34,
     "metadata": {},
     "output_type": "execute_result"
    }
   ],
   "source": [
    "tensor"
   ]
  },
  {
   "cell_type": "code",
   "execution_count": 35,
   "id": "c0690e92",
   "metadata": {},
   "outputs": [],
   "source": [
    "scaler=4"
   ]
  },
  {
   "cell_type": "code",
   "execution_count": 36,
   "id": "79aa2285",
   "metadata": {},
   "outputs": [
    {
     "data": {
      "text/plain": [
       "<tf.Tensor: shape=(2, 3), dtype=int32, numpy=\n",
       "array([[88,  8, 12],\n",
       "       [16, 20, 24]])>"
      ]
     },
     "execution_count": 36,
     "metadata": {},
     "output_type": "execute_result"
    }
   ],
   "source": [
    "tensor*scaler"
   ]
  },
  {
   "cell_type": "code",
   "execution_count": 37,
   "id": "81606fc6",
   "metadata": {},
   "outputs": [
    {
     "data": {
      "text/plain": [
       "<tf.Tensor: shape=(2, 3), dtype=int32, numpy=\n",
       "array([[26,  6,  7],\n",
       "       [ 8,  9, 10]])>"
      ]
     },
     "execution_count": 37,
     "metadata": {},
     "output_type": "execute_result"
    }
   ],
   "source": [
    "scaler +tensor"
   ]
  },
  {
   "cell_type": "code",
   "execution_count": 38,
   "id": "5d062b00",
   "metadata": {},
   "outputs": [
    {
     "data": {
      "text/plain": [
       "<tf.Tensor: shape=(2, 3), dtype=int32, numpy=\n",
       "array([[-18,   2,   1],\n",
       "       [  0,  -1,  -2]])>"
      ]
     },
     "execution_count": 38,
     "metadata": {},
     "output_type": "execute_result"
    }
   ],
   "source": [
    "scaler-tensor"
   ]
  },
  {
   "cell_type": "markdown",
   "id": "633935b3",
   "metadata": {},
   "source": [
    "## Matrix Multiplication"
   ]
  },
  {
   "cell_type": "code",
   "execution_count": 43,
   "id": "620e1c74",
   "metadata": {},
   "outputs": [],
   "source": [
    "mat_u=tf.constant([[3,4,5]])\n",
    "mat_v=tf.constant([[5,4,3]])"
   ]
  },
  {
   "cell_type": "code",
   "execution_count": 42,
   "id": "028d6529",
   "metadata": {},
   "outputs": [
    {
     "data": {
      "text/plain": [
       "TensorShape([1, 3])"
      ]
     },
     "execution_count": 42,
     "metadata": {},
     "output_type": "execute_result"
    }
   ],
   "source": [
    "mat_u.shape"
   ]
  },
  {
   "cell_type": "code",
   "execution_count": 48,
   "id": "f58484e6",
   "metadata": {},
   "outputs": [
    {
     "data": {
      "text/plain": [
       "<tf.Tensor: shape=(1, 1), dtype=int32, numpy=array([[46]])>"
      ]
     },
     "execution_count": 48,
     "metadata": {},
     "output_type": "execute_result"
    }
   ],
   "source": [
    "#Rele column of matrix of A=row of Matrix b if you multiply\n",
    "tf.matmul(mat_u,tf.transpose(mat_v))"
   ]
  },
  {
   "cell_type": "code",
   "execution_count": 49,
   "id": "d69f405c",
   "metadata": {},
   "outputs": [
    {
     "data": {
      "text/plain": [
       "<tf.Tensor: shape=(3, 3), dtype=int32, numpy=\n",
       "array([[15, 12,  9],\n",
       "       [20, 16, 12],\n",
       "       [25, 20, 15]])>"
      ]
     },
     "execution_count": 49,
     "metadata": {},
     "output_type": "execute_result"
    }
   ],
   "source": [
    "tf.matmul(tf.transpose(mat_u), mat_v)"
   ]
  },
  {
   "cell_type": "code",
   "execution_count": 50,
   "id": "5058bb5c",
   "metadata": {},
   "outputs": [
    {
     "data": {
      "text/plain": [
       "<tf.Tensor: shape=(1, 1), dtype=int32, numpy=array([[46]])>"
      ]
     },
     "execution_count": 50,
     "metadata": {},
     "output_type": "execute_result"
    }
   ],
   "source": [
    "mat_u@tf.transpose(mat_v)"
   ]
  },
  {
   "cell_type": "code",
   "execution_count": 52,
   "id": "5c038d34",
   "metadata": {},
   "outputs": [
    {
     "data": {
      "text/plain": [
       "<tf.Tensor: shape=(1, 3), dtype=int32, numpy=array([[15, 16, 15]])>"
      ]
     },
     "execution_count": 52,
     "metadata": {},
     "output_type": "execute_result"
    }
   ],
   "source": [
    "#element wise ultiplication\n",
    "# shape should be same both of the matrix\n",
    "mat_u*mat_v"
   ]
  },
  {
   "cell_type": "code",
   "execution_count": 53,
   "id": "ec50182f",
   "metadata": {},
   "outputs": [
    {
     "data": {
      "text/plain": [
       "tf.int32"
      ]
     },
     "execution_count": 53,
     "metadata": {},
     "output_type": "execute_result"
    }
   ],
   "source": [
    "mat_u.dtype"
   ]
  },
  {
   "cell_type": "code",
   "execution_count": 54,
   "id": "69d93822",
   "metadata": {},
   "outputs": [
    {
     "data": {
      "text/plain": [
       "<tf.Tensor: shape=(1, 3), dtype=int16, numpy=array([[3, 4, 5]], dtype=int16)>"
      ]
     },
     "execution_count": 54,
     "metadata": {},
     "output_type": "execute_result"
    }
   ],
   "source": [
    "# can be use reduce the size of the model to save the space in the memory allocation\n",
    "tf.cast(mat_u,tf.int16)"
   ]
  },
  {
   "cell_type": "code",
   "execution_count": null,
   "id": "8d15c0d5",
   "metadata": {},
   "outputs": [],
   "source": []
  }
 ],
 "metadata": {
  "kernelspec": {
   "display_name": "Python 3 (ipykernel)",
   "language": "python",
   "name": "python3"
  },
  "language_info": {
   "codemirror_mode": {
    "name": "ipython",
    "version": 3
   },
   "file_extension": ".py",
   "mimetype": "text/x-python",
   "name": "python",
   "nbconvert_exporter": "python",
   "pygments_lexer": "ipython3",
   "version": "3.7.0"
  }
 },
 "nbformat": 4,
 "nbformat_minor": 5
}
